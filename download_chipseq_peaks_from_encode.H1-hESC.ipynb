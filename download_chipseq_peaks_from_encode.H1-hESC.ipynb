{
 "cells": [
  {
   "cell_type": "markdown",
   "metadata": {},
   "source": [
    "# Download Histone Mod. and TFs data from ENCODE\n",
    "\n",
    "In order to run Avocado we need to feed the method with Histone and TF data.\n",
    "\n",
    "- [ ] Download data from http://encodeproject.org\n",
    "- [ ] Upload data to Synapse\n"
   ]
  },
  {
   "cell_type": "markdown",
   "metadata": {},
   "source": [
    "The following query was used to retrieve signal bigWigs from the ENCODE project portal:\n",
    "\n",
    "https://www.encodeproject.org/metadata/searchTerm=chip-seq&type=Experiment&status=released&biosample_ontology.term_name=H1-hESC&assay_title=ChIP-seq&biosample_ontology.classification=cell+line&files.file_type=bigWig&replicates.library.biosample.treatments.treatment_term_name%21=interferon+alpha&replicates.library.biosample.treatments.treatment_term_name%21=Interferon+gamma&target.investigated_as%21=control&target.investigated_as=histone&target.investigated_as=broad+histone+mark&target.investigated_as=narrow+histone+mark/metadata.tsv\n"
   ]
  },
  {
   "cell_type": "markdown",
   "metadata": {},
   "source": [
    "Create necessary folders"
   ]
  },
  {
   "cell_type": "code",
   "execution_count": 75,
   "metadata": {
    "collapsed": true
   },
   "outputs": [],
   "source": [
    "%%bash\n",
    "mkdir -p /data/reddylab/projects/encode4_element_selection/data/bigwigs\n",
    "mkdir -p /data/reddylab/projects/encode4_element_selection/logs\n",
    "mkdir -p /data/reddylab/projects/encode4_element_selection/metadata"
   ]
  },
  {
   "cell_type": "markdown",
   "metadata": {},
   "source": [
    "Download metadata selecting for combined (replicates 1 and 2 combined) histone mods. p-val signal files "
   ]
  },
  {
   "cell_type": "code",
   "execution_count": 10,
   "metadata": {
    "collapsed": true
   },
   "outputs": [],
   "source": [
    "%%bash\n",
    "mkdir -p /data/reddylab/projects/encode4_element_selection/data\n",
    "curl -SLs \"https://www.encodeproject.org/metadata/searchTerm=chip-seq&type=Experiment&status=released&biosample_ontology.term_name=H1-hESC&assay_title=ChIP-seq&biosample_ontology.classification=cell+line&files.file_type=bigWig&replicates.library.biosample.treatments.treatment_term_name%21=interferon+alpha&replicates.library.biosample.treatments.treatment_term_name%21=Interferon+gamma&target.investigated_as%21=control&target.investigated_as=histone&target.investigated_as=broad+histone+mark&target.investigated_as=narrow+histone+mark/metadata.tsv\" \\\n",
    "    | /bin/grep \"1, 2\" \\\n",
    "    | /bin/grep \"signal p-value\" \\\n",
    "    | /bin/grep \"hg19\" \\\n",
    "    | /bin/grep \"released\" \\\n",
    "    | awk -F\"\\t\" -vOFS=\"\\t\" '{print $7\".\"$19\".\"$1, $43, $26}' \\\n",
    "    | sort -t\"-\" -k2,2 \\\n",
    "> /data/reddylab/projects/encode4_element_selection/data/metadata.h1hesc.selected_histones.txt"
   ]
  },
  {
   "cell_type": "markdown",
   "metadata": {},
   "source": [
    "Because there are some factors that have more than a single option, select the **most recent** choice, manually commenting the undesired ones"
   ]
  },
  {
   "cell_type": "code",
   "execution_count": 1,
   "metadata": {},
   "outputs": [
    {
     "name": "stdout",
     "output_type": "stream",
     "text": [
      "Overwriting /data/reddylab/projects/encode4_element_selection/data/metadata.h1hesc.selected_histones.txt\n"
     ]
    }
   ],
   "source": [
    "%%writefile /data/reddylab/projects/encode4_element_selection/data/metadata.h1hesc.selected_histones.txt\n",
    "H1-hESC.H2AFZ-human.ENCFF277YWL\thttps://www.encodeproject.org/files/ENCFF277YWL/@@download/ENCFF277YWL.bigWig\t2012-03-06\n",
    "H1-hESC.H2AK5ac-human.ENCFF854LRO\thttps://www.encodeproject.org/files/ENCFF854LRO/@@download/ENCFF854LRO.bigWig\t2013-07-31\n",
    "H1-hESC.H2BK120ac-human.ENCFF057ZPN\thttps://www.encodeproject.org/files/ENCFF057ZPN/@@download/ENCFF057ZPN.bigWig\t2013-07-31\n",
    "H1-hESC.H2BK12ac-human.ENCFF717YKK\thttps://www.encodeproject.org/files/ENCFF717YKK/@@download/ENCFF717YKK.bigWig\t2013-07-31\n",
    "H1-hESC.H2BK15ac-human.ENCFF922QOI\thttps://www.encodeproject.org/files/ENCFF922QOI/@@download/ENCFF922QOI.bigWig\t2013-07-31\n",
    "H1-hESC.H2BK20ac-human.ENCFF444GST\thttps://www.encodeproject.org/files/ENCFF444GST/@@download/ENCFF444GST.bigWig\t2013-07-31\n",
    "H1-hESC.H2BK5ac-human.ENCFF174WXN\thttps://www.encodeproject.org/files/ENCFF174WXN/@@download/ENCFF174WXN.bigWig\t2013-07-31\n",
    "H1-hESC.H3K14ac-human.ENCFF338JMD\thttps://www.encodeproject.org/files/ENCFF338JMD/@@download/ENCFF338JMD.bigWig\t2013-07-31\n",
    "H1-hESC.H3K18ac-human.ENCFF432PMS\thttps://www.encodeproject.org/files/ENCFF432PMS/@@download/ENCFF432PMS.bigWig\t2013-07-31\n",
    "H1-hESC.H3K23ac-human.ENCFF551HLY\thttps://www.encodeproject.org/files/ENCFF551HLY/@@download/ENCFF551HLY.bigWig\t2013-07-31\n",
    "H1-hESC.H3K23me2-human.ENCFF572APZ\thttps://www.encodeproject.org/files/ENCFF572APZ/@@download/ENCFF572APZ.bigWig\t2013-07-31\n",
    "H1-hESC.H3K27ac-human.ENCFF281PNB\thttps://www.encodeproject.org/files/ENCFF281PNB/@@download/ENCFF281PNB.bigWig\t2013-07-31\n",
    "# H1-hESC.H3K27ac-human.ENCFF766NYI\thttps://www.encodeproject.org/files/ENCFF766NYI/@@download/ENCFF766NYI.bigWig\t2011-02-10\n",
    "# H1-hESC.H3K27me3-human.ENCFF038FVU\thttps://www.encodeproject.org/files/ENCFF038FVU/@@download/ENCFF038FVU.bigWig\t2011-02-10\n",
    "H1-hESC.H3K27me3-human.ENCFF059XSF\thttps://www.encodeproject.org/files/ENCFF059XSF/@@download/ENCFF059XSF.bigWig\t2013-07-31\n",
    "# H1-hESC.H3K27me3-human.ENCFF490DOZ\thttps://www.encodeproject.org/files/ENCFF490DOZ/@@download/ENCFF490DOZ.bigWig\t2013-07-31\n",
    "# H1-hESC.H3K27me3-human.ENCFF847LYD\thttps://www.encodeproject.org/files/ENCFF847LYD/@@download/ENCFF847LYD.bigWig\t2013-07-31\n",
    "# H1-hESC.H3K36me3-human.ENCFF035YHD\thttps://www.encodeproject.org/files/ENCFF035YHD/@@download/ENCFF035YHD.bigWig\t2011-02-10\n",
    "# H1-hESC.H3K36me3-human.ENCFF187HHK\thttps://www.encodeproject.org/files/ENCFF187HHK/@@download/ENCFF187HHK.bigWig\t2013-07-31\n",
    "H1-hESC.H3K36me3-human.ENCFF836YNM\thttps://www.encodeproject.org/files/ENCFF836YNM/@@download/ENCFF836YNM.bigWig\t2013-07-31\n",
    "# H1-hESC.H3K36me3-human.ENCFF962WVJ\thttps://www.encodeproject.org/files/ENCFF962WVJ/@@download/ENCFF962WVJ.bigWig\t2013-07-31\n",
    "H1-hESC.H3K4ac-human.ENCFF639XPT\thttps://www.encodeproject.org/files/ENCFF639XPT/@@download/ENCFF639XPT.bigWig\t2013-07-31\n",
    "# H1-hESC.H3K4me1-human.ENCFF216TBQ\thttps://www.encodeproject.org/files/ENCFF216TBQ/@@download/ENCFF216TBQ.bigWig\t2011-02-10\n",
    "H1-hESC.H3K4me1-human.ENCFF485VYP\thttps://www.encodeproject.org/files/ENCFF485VYP/@@download/ENCFF485VYP.bigWig\t2013-07-31\n",
    "# H1-hESC.H3K4me1-human.ENCFF821TQJ\thttps://www.encodeproject.org/files/ENCFF821TQJ/@@download/ENCFF821TQJ.bigWig\t2013-07-31\n",
    "# H1-hESC.H3K4me2-human.ENCFF388KHZ\thttps://www.encodeproject.org/files/ENCFF388KHZ/@@download/ENCFF388KHZ.bigWig\t2011-02-10\n",
    "H1-hESC.H3K4me2-human.ENCFF465LAE\thttps://www.encodeproject.org/files/ENCFF465LAE/@@download/ENCFF465LAE.bigWig\t2013-07-31\n",
    "# H1-hESC.H3K4me3-human.ENCFF268DIA\thttps://www.encodeproject.org/files/ENCFF268DIA/@@download/ENCFF268DIA.bigWig\t2013-07-31\n",
    "# H1-hESC.H3K4me3-human.ENCFF595PVD\thttps://www.encodeproject.org/files/ENCFF595PVD/@@download/ENCFF595PVD.bigWig\t2013-07-31\n",
    "# H1-hESC.H3K4me3-human.ENCFF753KWT\thttps://www.encodeproject.org/files/ENCFF753KWT/@@download/ENCFF753KWT.bigWig\t2013-07-31\n",
    "# H1-hESC.H3K4me3-human.ENCFF811AQD\thttps://www.encodeproject.org/files/ENCFF811AQD/@@download/ENCFF811AQD.bigWig\t2011-02-10\n",
    "H1-hESC.H3K4me3-human.ENCFF996WEH\thttps://www.encodeproject.org/files/ENCFF996WEH/@@download/ENCFF996WEH.bigWig\t2016-11-08\n",
    "H1-hESC.H3K56ac-human.ENCFF527SDH\thttps://www.encodeproject.org/files/ENCFF527SDH/@@download/ENCFF527SDH.bigWig\t2013-07-31\n",
    "H1-hESC.H3K79me2-human.ENCFF110VSH\thttps://www.encodeproject.org/files/ENCFF110VSH/@@download/ENCFF110VSH.bigWig\t2013-07-31\n",
    "# H1-hESC.H3K79me2-human.ENCFF779SYL\thttps://www.encodeproject.org/files/ENCFF779SYL/@@download/ENCFF779SYL.bigWig\t2012-03-06\n",
    "# H1-hESC.H3K9ac-human.ENCFF611MDC\thttps://www.encodeproject.org/files/ENCFF611MDC/@@download/ENCFF611MDC.bigWig\t2013-07-31\n",
    "H1-hESC.H3K9ac-human.ENCFF624CEH\thttps://www.encodeproject.org/files/ENCFF624CEH/@@download/ENCFF624CEH.bigWig\t2013-07-31\n",
    "# H1-hESC.H3K9ac-human.ENCFF821EHW\thttps://www.encodeproject.org/files/ENCFF821EHW/@@download/ENCFF821EHW.bigWig\t2011-02-10\n",
    "H1-hESC.H3K9me3-human.ENCFF533IAH\thttps://www.encodeproject.org/files/ENCFF533IAH/@@download/ENCFF533IAH.bigWig\t2013-07-31\n",
    "# H1-hESC.H4K20me1-human.ENCFF373UHH\thttps://www.encodeproject.org/files/ENCFF373UHH/@@download/ENCFF373UHH.bigWig\t2011-02-10\n",
    "H1-hESC.H4K20me1-human.ENCFF519SND\thttps://www.encodeproject.org/files/ENCFF519SND/@@download/ENCFF519SND.bigWig\t2013-07-31\n",
    "H1-hESC.H4K5ac-human.ENCFF591ZGX\thttps://www.encodeproject.org/files/ENCFF591ZGX/@@download/ENCFF591ZGX.bigWig\t2013-07-31\n",
    "H1-hESC.H4K8ac-human.ENCFF836WNS\thttps://www.encodeproject.org/files/ENCFF836WNS/@@download/ENCFF836WNS.bigWig\t2013-07-31\n",
    "H1-hESC.H4K91ac-human.ENCFF939RSI\thttps://www.encodeproject.org/files/ENCFF939RSI/@@download/ENCFF939RSI.bigWig\t2013-07-31\n"
   ]
  },
  {
   "cell_type": "markdown",
   "metadata": {},
   "source": [
    "Download bigWigs"
   ]
  },
  {
   "cell_type": "code",
   "execution_count": 2,
   "metadata": {},
   "outputs": [
    {
     "name": "stdout",
     "output_type": "stream",
     "text": [
      "Submitted batch job 8383151\n",
      "Submitted batch job 8383152\n",
      "Submitted batch job 8383153\n",
      "Submitted batch job 8383154\n",
      "Submitted batch job 8383155\n",
      "Submitted batch job 8383156\n",
      "Submitted batch job 8383157\n",
      "Submitted batch job 8383158\n",
      "Submitted batch job 8383159\n",
      "Submitted batch job 8383160\n",
      "Submitted batch job 8383161\n",
      "Submitted batch job 8383162\n",
      "Submitted batch job 8383163\n",
      "Submitted batch job 8383164\n",
      "Submitted batch job 8383165\n",
      "Submitted batch job 8383166\n",
      "Submitted batch job 8383167\n",
      "Submitted batch job 8383168\n",
      "Submitted batch job 8383169\n",
      "Submitted batch job 8383170\n",
      "Submitted batch job 8383171\n",
      "Submitted batch job 8383172\n",
      "Submitted batch job 8383173\n",
      "Submitted batch job 8383174\n",
      "Submitted batch job 8383175\n"
     ]
    }
   ],
   "source": [
    "%%bash\n",
    "OFS=\"\\t\"\n",
    "OUTDIR=\"/data/reddylab/projects/encode4_element_selection/data/bigwigs\"\n",
    "while read -r SAMPLE_NAME SAMPLE_URL;\n",
    "do\n",
    "    if [ ${SAMPLE_NAME} != \"#\" ]; then\n",
    "        sbatch -pnew,all -o /data/reddylab/projects/encode4_element_selection/logs/${SAMPLE_NAME}.out \\\n",
    "            --wrap=\"curl -SLo ${OUTDIR}/${SAMPLE_NAME}.bw ${SAMPLE_URL}\"\n",
    "    fi\n",
    "done </data/reddylab/projects/encode4_element_selection/data/metadata.h1hesc.selected_histones.txt"
   ]
  },
  {
   "cell_type": "code",
   "execution_count": 4,
   "metadata": {
    "collapsed": true
   },
   "outputs": [],
   "source": [
    "#!ls -la /data/reddylab/projects/encode4_element_selection/data/bigwigs"
   ]
  },
  {
   "cell_type": "markdown",
   "metadata": {},
   "source": [
    "liftOver interest regions from hg38 to hg19 (the regions obtained from the Google spreadsheet are in `hg38` https://docs.google.com/spreadsheets/d/1C4it8W9CdGpZjBHwkYyZjPVs5jFeD4Qbb6mhNRauaFs/edit#gid=398768999)"
   ]
  },
  {
   "cell_type": "code",
   "execution_count": 1,
   "metadata": {},
   "outputs": [
    {
     "name": "stdout",
     "output_type": "stream",
     "text": [
      "Writing /data/reddylab/projects/encode4_element_selection/metadata/regions_of_interest.H1-hESC.hg38.bed\n"
     ]
    }
   ],
   "source": [
    "%%writefile  /data/reddylab/projects/encode4_element_selection/metadata/regions_of_interest.H1-hESC.hg38.bed\n",
    "chr8\t126736069\t128736069\tMYC\n",
    "chr6\t30170693\t32170693\tPOU5F1\n",
    "chr12\t6789396\t8789396\tNANOG\n",
    "chr3\t180711924\t182711924\tSOX2\n"
   ]
  },
  {
   "cell_type": "code",
   "execution_count": 2,
   "metadata": {},
   "outputs": [
    {
     "name": "stderr",
     "output_type": "stream",
     "text": [
      "Reading liftover chains\n",
      "Mapping coordinates\n"
     ]
    }
   ],
   "source": [
    "%%bash\n",
    "/data/reddylab/software/bin/liftOver \\\n",
    "    /data/reddylab/projects/encode4_element_selection/metadata/regions_of_interest.H1-hESC.hg38.bed \\\n",
    "    /data/reddylab/Reference_Data/Genomes/hg38/hg38ToHg19.over.chain \\\n",
    "    /data/reddylab/projects/encode4_element_selection/metadata/regions_of_interest.H1-hESC.hg19.bed \\\n",
    "    /data/reddylab/projects/encode4_element_selection/metadata/regions_of_interest.H1-hESC.hg19.unmapped.bed"
   ]
  },
  {
   "cell_type": "code",
   "execution_count": 4,
   "metadata": {},
   "outputs": [
    {
     "name": "stdout",
     "output_type": "stream",
     "text": [
      "chr8\t127748314\t129748315\tMYC\r\n",
      "chr6\t30138470\t32138470\tPOU5F1\r\n",
      "chr12\t6898562\t8941992\tNANOG\r\n",
      "chr3\t180429712\t182429712\tSOX2\r\n"
     ]
    }
   ],
   "source": [
    "!cat /data/reddylab/projects/encode4_element_selection/metadata/regions_of_interest.H1-hESC.hg19.bed"
   ]
  },
  {
   "cell_type": "code",
   "execution_count": 6,
   "metadata": {
    "collapsed": true
   },
   "outputs": [],
   "source": [
    "%%bash\n",
    "ln -s \\\n",
    "    /data/reddylab/projects/encode4_element_selection/metadata/regions_of_interest.H1-hESC.hg19.bed \\\n",
    "    /data/reddylab/projects/encode4_element_selection/metadata/regions_of_interest.H1-hESC.all.hg19.bed    "
   ]
  },
  {
   "cell_type": "markdown",
   "metadata": {},
   "source": [
    "Use `bwtool window` to do the binning of the signal files in *250bp* windows "
   ]
  },
  {
   "cell_type": "code",
   "execution_count": 7,
   "metadata": {},
   "outputs": [
    {
     "name": "stdout",
     "output_type": "stream",
     "text": [
      "Submitted batch job 8383728\n"
     ]
    }
   ],
   "source": [
    "%%bash\n",
    "mkdir -p /data/reddylab/projects/encode4_element_selection/data/bigwigs\n",
    "BIGWIGS=($(/bin/ls -1 /data/reddylab/projects/encode4_element_selection/data/bigwigs/H1-hESC.*bw))\n",
    "module load htslib\n",
    "sbatch -pnew,all \\\n",
    "    --cpus-per-task 1 \\\n",
    "    --mem 8G \\\n",
    "    --array=0-$((${#BIGWIGS[@]}-1)) \\\n",
    "    --output=/data/reddylab/projects/encode4_element_selection/logs/bw_to_bins.H1-hESC.%a.out \\\n",
    "    <<'EOF'\n",
    "#!/bin/bash\n",
    "BIN_SIZE=250\n",
    "BIGWIGS=($(/bin/ls -1 /data/reddylab/projects/encode4_element_selection/data/bigwigs/H1-hESC.*bw))\n",
    "BIGWIG=${BIGWIGS[${SLURM_ARRAY_TASK_ID}]}\n",
    "\n",
    "/data/reddylab/software/bwtool/build/bin/bwtool window \\\n",
    "    ${BIN_SIZE} \\\n",
    "    ${BIGWIG} \\\n",
    "    -step=${BIN_SIZE} \\\n",
    "    -fill=0 \\\n",
    "> ${BIGWIG/.bw/.binsize_${BIN_SIZE}.bdg} \\\n",
    "&& echo \"${BIGWIG} Done.\" \\\n",
    "|| echo \"${BIGWIG} Failed!\"\n",
    "\n",
    "EOF\n"
   ]
  },
  {
   "cell_type": "markdown",
   "metadata": {},
   "source": [
    "Take the mean signal in each window (bwtool window does not aggregate automatically the values in each window, instead it list all values as a comma-separated list)"
   ]
  },
  {
   "cell_type": "code",
   "execution_count": 9,
   "metadata": {},
   "outputs": [
    {
     "name": "stdout",
     "output_type": "stream",
     "text": [
      "Submitted batch job 8383756\n"
     ]
    }
   ],
   "source": [
    "%%bash\n",
    "mkdir -p /data/reddylab/projects/encode4_element_selection/data/bigwigs\n",
    "BIGWIGS=($(/bin/ls -1 /data/reddylab/projects/encode4_element_selection/data/bigwigs/H1-hESC.*bw))\n",
    "module load htslib\n",
    "sbatch -pnew,all \\\n",
    "    --cpus-per-task 1 \\\n",
    "    --depend=afterok:8383728 \\\n",
    "    --mem 8G \\\n",
    "    --array=0-$((${#BIGWIGS[@]}-1)) \\\n",
    "    --output=/data/reddylab/projects/encode4_element_selection/logs/take_mean_bdgs.H1-hESC.%a.out \\\n",
    "    <<'EOF'\n",
    "#!/bin/bash\n",
    "BIN_SIZE=250\n",
    "BIGWIGS=($(/bin/ls -1 /data/reddylab/projects/encode4_element_selection/data/bigwigs/H1-hESC.*bw))\n",
    "BIGWIG=${BIGWIGS[${SLURM_ARRAY_TASK_ID}]}\n",
    "\n",
    "\n",
    "awk -vOFS=\"\\t\" '{tot=0; split($4, vv, \",\"); for (ii=1; ii<=length(vv); ii+=1){tot+=vv[ii]} print $1,$2,$3,tot/length(vv)}' \\\n",
    "    ${BIGWIG/.bw/.binsize_${BIN_SIZE}.bdg} \\\n",
    "> ${BIGWIG/.bw/.binsize_${BIN_SIZE}.mean.bdg} \\\n",
    "&& echo \"${BIGWIG} Done.\" \\\n",
    "|| echo \"${BIGWIG} Failed!\"\n",
    "EOF\n"
   ]
  },
  {
   "cell_type": "markdown",
   "metadata": {},
   "source": [
    "Intersect the bedgraphs previously created with the regions of interest defined in the Google spreadsheet"
   ]
  },
  {
   "cell_type": "code",
   "execution_count": 10,
   "metadata": {},
   "outputs": [
    {
     "name": "stdout",
     "output_type": "stream",
     "text": [
      "Submitted batch job 8383757\n"
     ]
    }
   ],
   "source": [
    "%%bash\n",
    "mkdir -p /data/reddylab/projects/encode4_element_selection/data/bigwigs\n",
    "FACTOR=\"H1-hESC\"\n",
    "BIGWIGS=($(/bin/ls -1 /data/reddylab/projects/encode4_element_selection/data/bigwigs/${FACTOR}.*bw))\n",
    "module load htslib\n",
    "sbatch -pnew,all \\\n",
    "    --cpus-per-task 1 \\\n",
    "    --depend=afterok:8383756 \\\n",
    "    --mem 8G \\\n",
    "    --array=0-$((${#BIGWIGS[@]}-1)) \\\n",
    "    --output=/data/reddylab/projects/encode4_element_selection/logs/intersect_bdgs_with_loci.%a.out \\\n",
    "    <<'EOF'\n",
    "#!/bin/bash\n",
    "BIN_SIZE=250\n",
    "FACTOR=\"H1-hESC\"\n",
    "BIGWIGS=($(/bin/ls -1 /data/reddylab/projects/encode4_element_selection/data/bigwigs/${FACTOR}.*bw))\n",
    "BIGWIG=${BIGWIGS[${SLURM_ARRAY_TASK_ID}]}\n",
    "\n",
    "\n",
    "bedtools intersect \\\n",
    "    -wa -wb \\\n",
    "    -a ${BIGWIG/.bw/.binsize_${BIN_SIZE}.mean.bdg}  \\\n",
    "    -b /data/reddylab/projects/encode4_element_selection/metadata/regions_of_interest.${FACTOR}.all.hg19.bed \\\n",
    "> ${BIGWIG/.bw/.binsize_${BIN_SIZE}.mean.in_loci_of_interest.txt} \\\n",
    "&& echo \"${BIGWIG/.bw/.binsize_${BIN_SIZE}.mean.in_loci_of_interest.txt} Done.\" \\\n",
    "|| echo \"${BIGWIG/.bw/.binsize_${BIN_SIZE}.mean.in_loci_of_interest.txt} Failed!\" \\\n",
    "EOF\n"
   ]
  },
  {
   "cell_type": "markdown",
   "metadata": {},
   "source": [
    "Merge individual factors in one single table with regions in the x-axis and p-value signals in the y-axis "
   ]
  },
  {
   "cell_type": "code",
   "execution_count": 1,
   "metadata": {
    "collapsed": true
   },
   "outputs": [],
   "source": [
    "%%bash\n",
    "FACTOR=\"H1-hESC\"\n",
    "for ii in $(/bin/ls -1 /data/reddylab/projects/encode4_element_selection/data/bigwigs/${FACTOR}.*.binsize_250.mean.in_loci_of_interest.txt  \\\n",
    "    | xargs -I{} basename {} \\\n",
    "    | cut -d. -f2); \n",
    "    do \n",
    "        printf \"\\t${ii}\"; \n",
    "    done > /data/reddylab/projects/encode4_element_selection/data/bigwigs/${FACTOR}.binsize_250.mean.in_loci_of_interest.txt && \\\n",
    "printf \"\\n\" >> /data/reddylab/projects/encode4_element_selection/data/bigwigs/${FACTOR}.binsize_250.mean.in_loci_of_interest.txt&& \\\n",
    "paste /data/reddylab/projects/encode4_element_selection/data/bigwigs/${FACTOR}.*.binsize_250.mean.in_loci_of_interest.txt \\\n",
    "    | awk -vOFS=\"\\t\" '{printf $1\"_\"$2\"_\"$3\"_\"$8; for (ii=4; ii<=NF; ii+=8){printf \"\\t\"$ii;} printf \"\\n\"}' \\\n",
    ">> /data/reddylab/projects/encode4_element_selection/data/bigwigs/${FACTOR}.binsize_250.mean.in_loci_of_interest.txt\n"
   ]
  },
  {
   "cell_type": "code",
   "execution_count": null,
   "metadata": {
    "collapsed": true
   },
   "outputs": [],
   "source": []
  }
 ],
 "metadata": {
  "kernelspec": {
   "display_name": "alex_dev",
   "language": "python",
   "name": "alex_dev"
  },
  "language_info": {
   "codemirror_mode": {
    "name": "ipython",
    "version": 2
   },
   "file_extension": ".py",
   "mimetype": "text/x-python",
   "name": "python",
   "nbconvert_exporter": "python",
   "pygments_lexer": "ipython2",
   "version": "2.7.15"
  }
 },
 "nbformat": 4,
 "nbformat_minor": 2
}
