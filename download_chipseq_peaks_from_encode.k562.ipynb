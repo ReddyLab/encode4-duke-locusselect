{
 "cells": [
  {
   "cell_type": "markdown",
   "metadata": {},
   "source": [
    "# Download Histone Mod. and TFs data from ENCODE\n",
    "\n",
    "In order to run Avocado we need to feed the method with Histone and TF data.\n",
    "\n",
    "- [ ] Download data from http://encodeproject.org\n",
    "- [ ] Upload data to Synapse\n"
   ]
  },
  {
   "cell_type": "markdown",
   "metadata": {},
   "source": [
    "The following query was used to retrieve signal bigWigs from the ENCODE project portal:\n",
    "\n",
    "https://www.encodeproject.org/metadata/searchTerm=chip-seq&type=Experiment&status=released&biosample_ontology.term_name=K562&assay_title=ChIP-seq&biosample_ontology.classification=cell+line&files.file_type=bigWig&replicates.library.biosample.treatments.treatment_term_name%21=interferon+alpha&replicates.library.biosample.treatments.treatment_term_name%21=Interferon+gamma&target.investigated_as%21=control&target.investigated_as=histone&target.investigated_as=broad+histone+mark&target.investigated_as=narrow+histone+mark/metadata.tsv\n"
   ]
  },
  {
   "cell_type": "markdown",
   "metadata": {},
   "source": [
    "Create necessary folders"
   ]
  },
  {
   "cell_type": "code",
   "execution_count": 75,
   "metadata": {
    "collapsed": true
   },
   "outputs": [],
   "source": [
    "%%bash\n",
    "mkdir -p /data/reddylab/projects/encode4_element_selection/data/bigwigs\n",
    "mkdir -p /data/reddylab/projects/encode4_element_selection/logs\n",
    "mkdir -p /data/reddylab/projects/encode4_element_selection/metadata"
   ]
  },
  {
   "cell_type": "markdown",
   "metadata": {},
   "source": [
    "Download metadata selecting for combined (replicates 1 and 2 combined) histone mods. p-val signal files "
   ]
  },
  {
   "cell_type": "code",
   "execution_count": 67,
   "metadata": {
    "collapsed": true
   },
   "outputs": [],
   "source": [
    "%%bash\n",
    "mkdir -p /data/reddylab/projects/encode4_element_selection/data\n",
    "curl -SLs \"https://www.encodeproject.org/metadata/searchTerm=chip-seq&type=Experiment&status=released&biosample_ontology.term_name=K562&assay_title=ChIP-seq&biosample_ontology.classification=cell+line&files.file_type=bigWig&replicates.library.biosample.treatments.treatment_term_name%21=interferon+alpha&replicates.library.biosample.treatments.treatment_term_name%21=Interferon+gamma&target.investigated_as%21=control&target.investigated_as=histone&target.investigated_as=broad+histone+mark&target.investigated_as=narrow+histone+mark/metadata.tsv\" \\\n",
    "    | /bin/grep \"1, 2\" \\\n",
    "    | /bin/grep \"signal p-value\" \\\n",
    "    | /bin/grep \"hg19\" \\\n",
    "    | /bin/grep \"released\" \\\n",
    "    | awk -F\"\\t\" -vOFS=\"\\t\" '{print $7\".\"$19\".\"$1, $43, $26}' \\\n",
    "    | sort -k1,1 -k3,3 \\\n",
    "> /data/reddylab/projects/encode4_element_selection/data/metadata.selected_histones.txt"
   ]
  },
  {
   "cell_type": "markdown",
   "metadata": {},
   "source": [
    "Because there are some factors that have more than a single option, select the **most recent** choice, manually commenting the undesired ones"
   ]
  },
  {
   "cell_type": "code",
   "execution_count": 68,
   "metadata": {},
   "outputs": [
    {
     "name": "stdout",
     "output_type": "stream",
     "text": [
      "Overwriting /data/reddylab/projects/encode4_element_selection/data/metadata.selected_histones.txt\n"
     ]
    }
   ],
   "source": [
    "%%writefile /data/reddylab/projects/encode4_element_selection/data/metadata.selected_histones.txt\n",
    "K562.H2AFZ-human.ENCFF169KVV\thttps://www.encodeproject.org/files/ENCFF169KVV/@@download/ENCFF169KVV.bigWig\t2011-02-10\n",
    "K562.H3K27ac-human.ENCFF840LLW\thttps://www.encodeproject.org/files/ENCFF840LLW/@@download/ENCFF840LLW.bigWig\t2011-02-10\n",
    "K562.H3K27me3-human.ENCFF552AKP\thttps://www.encodeproject.org/files/ENCFF552AKP/@@download/ENCFF552AKP.bigWig\t2011-05-19\n",
    "# K562.H3K27me3-human.ENCFF658JMW\thttps://www.encodeproject.org/files/ENCFF658JMW/@@download/ENCFF658JMW.bigWig\t2011-02-10\n",
    "# K562.H3K36me3-human.ENCFF464YSK\thttps://www.encodeproject.org/files/ENCFF464YSK/@@download/ENCFF464YSK.bigWig\t2011-02-10\n",
    "K562.H3K36me3-human.ENCFF958BZN\thttps://www.encodeproject.org/files/ENCFF958BZN/@@download/ENCFF958BZN.bigWig\t2011-02-11\n",
    "K562.H3K4me1-human.ENCFF012JPC\thttps://www.encodeproject.org/files/ENCFF012JPC/@@download/ENCFF012JPC.bigWig\t2011-10-07\n",
    "# K562.H3K4me1-human.ENCFF900IMQ\thttps://www.encodeproject.org/files/ENCFF900IMQ/@@download/ENCFF900IMQ.bigWig\t2011-02-10\n",
    "K562.H3K4me2-human.ENCFF106RCF\thttps://www.encodeproject.org/files/ENCFF106RCF/@@download/ENCFF106RCF.bigWig\t2011-02-10\n",
    "# K562.H3K4me3-human.ENCFF029DFM\thttps://www.encodeproject.org/files/ENCFF029DFM/@@download/ENCFF029DFM.bigWig\t2011-02-10\n",
    "# K562.H3K4me3-human.ENCFF130CUR\thttps://www.encodeproject.org/files/ENCFF130CUR/@@download/ENCFF130CUR.bigWig\t2011-02-11\n",
    "K562.H3K4me3-human.ENCFF285EUA\thttps://www.encodeproject.org/files/ENCFF285EUA/@@download/ENCFF285EUA.bigWig\t2016-11-08\n",
    "# K562.H3K4me3-human.ENCFF452UGM\thttps://www.encodeproject.org/files/ENCFF452UGM/@@download/ENCFF452UGM.bigWig\t2011-05-19\n",
    "K562.H3K79me2-human.ENCFF677DJM\thttps://www.encodeproject.org/files/ENCFF677DJM/@@download/ENCFF677DJM.bigWig\t2011-02-10\n",
    "K562.H3K9ac-human.ENCFF235MFR   https://www.encodeproject.org/files/ENCFF235MFR/@@download/ENCFF235MFR.bigWig   2011-05-19\n",
    "# K562.H3K9ac-human.ENCFF957FQF   https://www.encodeproject.org/files/ENCFF957FQF/@@download/ENCFF957FQF.bigWig   2011-02-10\n",
    "K562.H3K9me3-human.ENCFF330EOT  https://www.encodeproject.org/files/ENCFF330EOT/@@download/ENCFF330EOT.bigWig   2011-02-10\n",
    "K562.H4K20me1-human.ENCFF359JVI https://www.encodeproject.org/files/ENCFF359JVI/@@download/ENCFF359JVI.bigWig   2011-02-10\n"
   ]
  },
  {
   "cell_type": "markdown",
   "metadata": {},
   "source": [
    "Download bigWigs"
   ]
  },
  {
   "cell_type": "code",
   "execution_count": 72,
   "metadata": {},
   "outputs": [
    {
     "name": "stdout",
     "output_type": "stream",
     "text": [
      "Submitted batch job 7929637\n",
      "Submitted batch job 7929638\n",
      "Submitted batch job 7929639\n",
      "Submitted batch job 7929640\n",
      "Submitted batch job 7929641\n",
      "Submitted batch job 7929642\n",
      "Submitted batch job 7929643\n",
      "Submitted batch job 7929644\n",
      "Submitted batch job 7929645\n",
      "Submitted batch job 7929646\n"
     ]
    }
   ],
   "source": [
    "%%bash\n",
    "OFS=\"\\t\"\n",
    "OUTDIR=\"/data/reddylab/projects/encode4_element_selection/data/bigwigs\"\n",
    "while read -r SAMPLE_NAME SAMPLE_URL;\n",
    "do\n",
    "    if [ ${SAMPLE_NAME} != \"#\" ]; then\n",
    "        sbatch -pnew,all -o /data/reddylab/projects/encode4_element_selection/logs/${SAMPLE_NAME}.out \\\n",
    "            --wrap=\"curl -SLo ${OUTDIR}/${SAMPLE_NAME}.bw ${SAMPLE_URL}\"\n",
    "    fi\n",
    "done </data/reddylab/projects/encode4_element_selection/data/metadata.selected_histones.txt"
   ]
  },
  {
   "cell_type": "code",
   "execution_count": 74,
   "metadata": {},
   "outputs": [
    {
     "name": "stdout",
     "output_type": "stream",
     "text": [
      "total 4329232\r\n",
      "drwxr-sr-x+ 2 aeb84 reddylab      8192 Mar 18 15:48 .\r\n",
      "drwxr-sr-x+ 3 aeb84 reddylab       512 Mar 18 14:59 ..\r\n",
      "-rw-rw-r--  1 aeb84 reddylab 359033131 Mar 18 15:34 K562.H2AFZ-human.ENCFF169KVV.bw\r\n",
      "-rw-rw-r--  1 aeb84 reddylab 331243852 Mar 18 15:34 K562.H3K27ac-human.ENCFF840LLW.bw\r\n",
      "-rw-rw-r--  1 aeb84 reddylab 601772450 Mar 18 15:35 K562.H3K27me3-human.ENCFF552AKP.bw\r\n",
      "-rw-rw-r--  1 aeb84 reddylab 322417925 Mar 18 15:34 K562.H3K36me3-human.ENCFF958BZN.bw\r\n",
      "-rw-rw-r--  1 aeb84 reddylab 569337920 Mar 18 15:34 K562.H3K4me1-human.ENCFF012JPC.bw\r\n",
      "-rw-rw-r--  1 aeb84 reddylab 324479909 Mar 18 15:35 K562.H3K4me2-human.ENCFF106RCF.bw\r\n",
      "-rw-rw-r--  1 aeb84 reddylab 652087879 Mar 18 15:34 K562.H3K4me3-human.ENCFF285EUA.bw\r\n",
      "-rw-rw-r--  1 aeb84 reddylab 325295350 Mar 18 15:34 K562.H3K79me2-human.ENCFF677DJM.bw\r\n",
      "-rw-rw-r--  1 aeb84 reddylab 580566140 Mar 18 15:34 K562.H3K9ac-human.ENCFF235MFR.bw\r\n",
      "-rw-rw-r--  1 aeb84 reddylab 366121438 Mar 18 15:34 K562.H3K9me3-human.ENCFF330EOT.bw\r\n"
     ]
    }
   ],
   "source": [
    "!ls -la /data/reddylab/projects/encode4_element_selection/data/bigwigs"
   ]
  },
  {
   "cell_type": "markdown",
   "metadata": {},
   "source": [
    "liftOver interest regions from hg38 to hg19 (the regions obtained from the Google spreadsheet are in `hg38` https://docs.google.com/spreadsheets/d/1C4it8W9CdGpZjBHwkYyZjPVs5jFeD4Qbb6mhNRauaFs/edit#gid=398768999)"
   ]
  },
  {
   "cell_type": "code",
   "execution_count": 2,
   "metadata": {},
   "outputs": [
    {
     "name": "stdout",
     "output_type": "stream",
     "text": [
      "Overwriting /data/reddylab/projects/encode4_element_selection/metadata/regions_of_interest.K562.hg38.bed\n"
     ]
    }
   ],
   "source": [
    "%%writefile  /data/reddylab/projects/encode4_element_selection/metadata/regions_of_interest.K562.hg38.bed\n",
    "chrX\t47786554\t49786554\tGATA1\n",
    "chr8\t126736069\t128736069\tMYC\n",
    "chr11\t4505604\t6505604\tHBE1\n",
    "chr11\t32869816\t34869816\tLMO2\n",
    "chr20\t56391407\t58391407\tRBM38\n",
    "chr16\t1\t1172847\tHBA2\n",
    "chr2\t59553498\t61553498\tBCL11A\n"
   ]
  },
  {
   "cell_type": "code",
   "execution_count": 5,
   "metadata": {},
   "outputs": [
    {
     "name": "stderr",
     "output_type": "stream",
     "text": [
      "Reading liftover chains\n",
      "Mapping coordinates\n"
     ]
    }
   ],
   "source": [
    "%%bash\n",
    "/data/reddylab/software/bin/liftOver \\\n",
    "    /data/reddylab/projects/encode4_element_selection/metadata/regions_of_interest.K562.hg38.bed \\\n",
    "    /data/reddylab/Reference_Data/Genomes/hg38/hg38ToHg19.over.chain \\\n",
    "    /data/reddylab/projects/encode4_element_selection/metadata/regions_of_interest.K562.hg19.bed \\\n",
    "    /data/reddylab/projects/encode4_element_selection/metadata/regions_of_interest.K562.hg19.unmapped.bed"
   ]
  },
  {
   "cell_type": "code",
   "execution_count": 2,
   "metadata": {},
   "outputs": [
    {
     "name": "stdout",
     "output_type": "stream",
     "text": [
      "Writing /data/reddylab/projects/encode4_element_selection/metadata/regions_of_interest.K562.all.hg19.bed\n"
     ]
    }
   ],
   "source": [
    "%%writefile /data/reddylab/projects/encode4_element_selection/metadata/regions_of_interest.K562.all.hg19.bed\n",
    "chrX\t47644982\t49644982\tGATA1\n",
    "chr8\t127748314\t129748315\tMYC\n",
    "chr11\t4526834\t6526834\tHBE1\n",
    "chr11\t32891362\t34891363\tLMO2\n",
    "chr20\t54966463\t56966463\tRBM38\n",
    "chr16\t60000\t1222847\tHBA2\n",
    "chr2\t59780633\t61780633\tBCL11A\n"
   ]
  },
  {
   "cell_type": "markdown",
   "metadata": {},
   "source": [
    "Use `bwtool window` to do the binning of the signal files in *250bp* windows "
   ]
  },
  {
   "cell_type": "code",
   "execution_count": 5,
   "metadata": {},
   "outputs": [
    {
     "name": "stdout",
     "output_type": "stream",
     "text": [
      "Submitted batch job 7953276\n"
     ]
    }
   ],
   "source": [
    "%%bash\n",
    "mkdir -p /data/reddylab/projects/encode4_element_selection/data/bigwigs\n",
    "BIGWIGS=($(/bin/ls -1 /data/reddylab/projects/encode4_element_selection/data/bigwigs/*bw))\n",
    "module load htslib\n",
    "sbatch -pnew,all \\\n",
    "    --cpus-per-task 1 \\\n",
    "    --mem 8G \\\n",
    "    --array=0-9 \\\n",
    "    --output=/data/reddylab/projects/encode4_element_selection/logs/bw_to_bins.%a.out \\\n",
    "    <<'EOF'\n",
    "#!/bin/bash\n",
    "BIN_SIZE=250\n",
    "BIGWIGS=($(/bin/ls -1 /data/reddylab/projects/encode4_element_selection/data/bigwigs/*bw))\n",
    "BIGWIG=${BIGWIGS[${SLURM_ARRAY_TASK_ID}]}\n",
    "\n",
    "/data/reddylab/software/bwtool/build/bin/bwtool window \\\n",
    "    ${BIN_SIZE} \\\n",
    "    ${BIGWIG} \\\n",
    "    -step=${BIN_SIZE} \\\n",
    "    -fill=0 \\\n",
    "> ${BIGWIG/.bw/.binsize_${BIN_SIZE}.bdg} \\\n",
    "&& echo \"${BIGWIG} Done.\" \\\n",
    "|| echo \"${BIGWIG} Failed!\"\n",
    "\n",
    "EOF\n"
   ]
  },
  {
   "cell_type": "markdown",
   "metadata": {},
   "source": [
    "Take the mean signal in each window (bwtool window does not aggregate automatically the values in each window, instead it list all values as a comma-separated list)"
   ]
  },
  {
   "cell_type": "code",
   "execution_count": 7,
   "metadata": {},
   "outputs": [
    {
     "name": "stdout",
     "output_type": "stream",
     "text": [
      "Submitted batch job 7960071\n"
     ]
    }
   ],
   "source": [
    "%%bash\n",
    "mkdir -p /data/reddylab/projects/encode4_element_selection/data/bigwigs\n",
    "BIGWIGS=($(/bin/ls -1 /data/reddylab/projects/encode4_element_selection/data/bigwigs/*bw))\n",
    "module load htslib\n",
    "sbatch -pnew,all \\\n",
    "    --cpus-per-task 1 \\\n",
    "    --mem 8G \\\n",
    "    --array=0-9 \\\n",
    "    --output=/data/reddylab/projects/encode4_element_selection/logs/take_mean_bdgs.%a.out \\\n",
    "    <<'EOF'\n",
    "#!/bin/bash\n",
    "BIN_SIZE=250\n",
    "BIGWIGS=($(/bin/ls -1 /data/reddylab/projects/encode4_element_selection/data/bigwigs/*bw))\n",
    "BIGWIG=${BIGWIGS[${SLURM_ARRAY_TASK_ID}]}\n",
    "\n",
    "\n",
    "awk -vOFS=\"\\t\" '{tot=0; split($4, vv, \",\"); for (ii=1; ii<=length(vv); ii+=1){tot+=vv[ii]} print $1,$2,$3,tot/length(vv)}' \\\n",
    "    ${BIGWIG/.bw/.binsize_${BIN_SIZE}.bdg} \\\n",
    "> ${BIGWIG/.bw/.binsize_${BIN_SIZE}.mean.bdg} \\\n",
    "&& echo \"${BIGWIG} Done.\" \\\n",
    "|| echo \"${BIGWIG} Failed!\"\n",
    "EOF\n"
   ]
  },
  {
   "cell_type": "markdown",
   "metadata": {},
   "source": [
    "Intersect the bedgraphs previously created with the regions of interest defined in the Google spreadsheet"
   ]
  },
  {
   "cell_type": "code",
   "execution_count": 3,
   "metadata": {},
   "outputs": [
    {
     "name": "stdout",
     "output_type": "stream",
     "text": [
      "Submitted batch job 8305607\n"
     ]
    }
   ],
   "source": [
    "%%bash\n",
    "mkdir -p /data/reddylab/projects/encode4_element_selection/data/bigwigs\n",
    "BIGWIGS=($(/bin/ls -1 /data/reddylab/projects/encode4_element_selection/data/bigwigs/*bw))\n",
    "module load htslib\n",
    "sbatch -pnew,all \\\n",
    "    --cpus-per-task 1 \\\n",
    "    --mem 8G \\\n",
    "    --array=0-9 \\\n",
    "    --output=/data/reddylab/projects/encode4_element_selection/logs/intersect_bdgs_with_loci.%a.out \\\n",
    "    <<'EOF'\n",
    "#!/bin/bash\n",
    "BIN_SIZE=250\n",
    "BIGWIGS=($(/bin/ls -1 /data/reddylab/projects/encode4_element_selection/data/bigwigs/*bw))\n",
    "BIGWIG=${BIGWIGS[${SLURM_ARRAY_TASK_ID}]}\n",
    "\n",
    "\n",
    "bedtools intersect \\\n",
    "    -wa -wb \\\n",
    "    -a ${BIGWIG/.bw/.binsize_${BIN_SIZE}.mean.bdg}  \\\n",
    "    -b /data/reddylab/projects/encode4_element_selection/metadata/regions_of_interest.K562.all.hg19.bed \\\n",
    "> ${BIGWIG/.bw/.binsize_${BIN_SIZE}.mean.in_loci_of_interest.txt} \\\n",
    "&& echo \"${BIGWIG/.bw/.binsize_${BIN_SIZE}.mean.in_loci_of_interest.txt} Done.\" \\\n",
    "|| echo \"${BIGWIG/.bw/.binsize_${BIN_SIZE}.mean.in_loci_of_interest.txt} Failed!\" \\\n",
    "EOF\n"
   ]
  },
  {
   "cell_type": "markdown",
   "metadata": {},
   "source": [
    "Merge individual factors in one single table with regions in the x-axis and p-value signals in the y-axis "
   ]
  },
  {
   "cell_type": "code",
   "execution_count": 4,
   "metadata": {
    "collapsed": true
   },
   "outputs": [],
   "source": [
    "%%bash\n",
    "for ii in $(/bin/ls -1 /data/reddylab/projects/encode4_element_selection/data/bigwigs/K562.*.binsize_250.mean.in_loci_of_interest.txt  \\\n",
    "    | xargs -I{} basename {} \\\n",
    "    | cut -d. -f2); \n",
    "    do \n",
    "        printf \"\\t${ii}\"; \n",
    "    done > /data/reddylab/projects/encode4_element_selection/data/bigwigs/K562.binsize_250.mean.in_loci_of_interest.txt && \\\n",
    "printf \"\\n\" >> /data/reddylab/projects/encode4_element_selection/data/bigwigs/K562.binsize_250.mean.in_loci_of_interest.txt&& \\\n",
    "paste /data/reddylab/projects/encode4_element_selection/data/bigwigs/K562.*.binsize_250.mean.in_loci_of_interest.txt \\\n",
    "    | awk -vOFS=\"\\t\" '{printf $1\"_\"$2\"_\"$3\"_\"$8; for (ii=4; ii<=NF; ii+=8){printf \"\\t\"$ii;} printf \"\\n\"}' \\\n",
    ">> /data/reddylab/projects/encode4_element_selection/data/bigwigs/K562.binsize_250.mean.in_loci_of_interest.txt\n"
   ]
  },
  {
   "cell_type": "code",
   "execution_count": null,
   "metadata": {
    "collapsed": true
   },
   "outputs": [],
   "source": []
  }
 ],
 "metadata": {
  "kernelspec": {
   "display_name": "alex_dev",
   "language": "python",
   "name": "alex_dev"
  },
  "language_info": {
   "codemirror_mode": {
    "name": "ipython",
    "version": 2
   },
   "file_extension": ".py",
   "mimetype": "text/x-python",
   "name": "python",
   "nbconvert_exporter": "python",
   "pygments_lexer": "ipython2",
   "version": "2.7.15"
  }
 },
 "nbformat": 4,
 "nbformat_minor": 2
}
